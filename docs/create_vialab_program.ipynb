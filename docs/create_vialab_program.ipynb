{
  "cells": [
    {
      "cell_type": "code",
      "execution_count": 1,
      "id": "ebdfc468",
      "metadata": {},
      "outputs": [],
      "source": [
        "from pathlib import Path\n",
        "from pyalab import (\n",
        "    Deck,\n",
        "    DeckLayout,\n",
        "    DeckPositions,\n",
        "    Pipette,\n",
        "    Plate,\n",
        "    Program,\n",
        "    SetInitialVolume,\n",
        "    SetVolume,\n",
        "    StandardDeckNames,\n",
        "    Tip,\n",
        "    Transfer,\n",
        ")"
      ]
    },
    {
      "cell_type": "code",
      "execution_count": 2,
      "id": "f3ae6a36-c41e-4811-b330-066a15d5f2e1",
      "metadata": {},
      "outputs": [],
      "source": [
        "# Define your labware\n",
        "pcr_plate = Plate(name=\"BIO-RAD Hard-Shell 96-Well Skirted PCR Plates\", display_name=\"PCR Plate\")"
      ]
    },
    {
      "cell_type": "code",
      "execution_count": 3,
      "id": "114956da-637a-4d94-ac7b-59909baffe8e",
      "metadata": {},
      "outputs": [],
      "source": [
        "# Initialize variables you'll use in your Program\n",
        "transfer_volume = 18"
      ]
    },
    {
      "cell_type": "code",
      "execution_count": 4,
      "id": "9e656c5d-8195-4627-bf32-0f265dfcf7eb",
      "metadata": {},
      "outputs": [],
      "source": [
        "# Instantiate the Program\n",
        "program = Program(\n",
        "    deck_layouts=[\n",
        "        DeckLayout(\n",
        "            deck=Deck(name=StandardDeckNames.THREE_POSITION.value),\n",
        "            labware={DeckPositions.B_PLATE_LANDSCAPE.value: pcr_plate},\n",
        "        )\n",
        "    ],\n",
        "    display_name=\"simple-transfer\",\n",
        "    description=\"Transfer in 96-well plate\",\n",
        "    pipette=Pipette(name=\"VOYAGER EIGHT 300 \u00b5l\"),\n",
        "    tip=Tip(name=\"300 \u00b5l GripTip Sterile Filter Low retention\"),\n",
        ")\n",
        "pcr_plate_section_index = program.get_section_index_for_plate(pcr_plate)"
      ]
    },
    {
      "cell_type": "code",
      "execution_count": 5,
      "id": "f9095740-8fd9-4332-8570-1d40b5871384",
      "metadata": {},
      "outputs": [],
      "source": [
        "# Add steps to the Program"
      ]
    },
    {
      "cell_type": "code",
      "execution_count": 6,
      "id": "887d4515-9d93-49b3-b9fa-ed191e14ea47",
      "metadata": {},
      "outputs": [],
      "source": [
        "# Step for defining initial volumes\n",
        "program.add_step(\n",
        "    SetInitialVolume(\n",
        "        plate=pcr_plate,\n",
        "        section_index=pcr_plate_section_index,\n",
        "        column_index=0,\n",
        "        volume=200,\n",
        "    )\n",
        ")\n",
        "for column_index in range(1, 12):\n",
        "    program.add_step(\n",
        "        SetVolume(\n",
        "            plate=pcr_plate,\n",
        "            section_index=pcr_plate_section_index,\n",
        "            column_index=column_index,\n",
        "            volume=0,\n",
        "        )\n",
        "    )"
      ]
    },
    {
      "cell_type": "code",
      "execution_count": 7,
      "id": "900d0aeb-1267-4d03-92e1-7a10cf165004",
      "metadata": {},
      "outputs": [],
      "source": [
        "# Steps to transfer decreasing volumes across the columns of the plate\n",
        "for column_index in range(1, 12):\n",
        "    program.add_step(\n",
        "        Transfer(\n",
        "            source=pcr_plate,\n",
        "            source_section_index=pcr_plate_section_index,\n",
        "            source_column_index=0,\n",
        "            destination=pcr_plate,\n",
        "            destination_section_index=pcr_plate_section_index,\n",
        "            destination_column_index=column_index,\n",
        "            volume=transfer_volume,\n",
        "        )\n",
        "    )\n",
        "    transfer_volume -= 1"
      ]
    },
    {
      "cell_type": "code",
      "execution_count": 14,
      "id": "d85d3864-82d9-4890-bc48-1b87b4f97dd9",
      "metadata": {},
      "outputs": [],
      "source": [
        "# Save the program file.\n",
        "program.dump_xml(Path(\"/home\") / \"jovyan\" / \"docs\" / \"simple-transfer.iaa\")"
      ]
    },
    {
      "cell_type": "code",
      "execution_count": null,
      "id": "437890e8-e49b-4503-a24c-e9e5b25e55bb",
      "metadata": {},
      "outputs": [],
      "source": [
        "# Great! You should now see the file over in the left \"file explorer\" pane, and can right-click on it and select Download to save it to your local machine."
      ]
    }
  ],
  "metadata": {
    "kernelspec": {
      "display_name": "Python 3 (ipykernel)",
      "language": "python",
      "name": "python3"
    },
    "language_info": {
      "codemirror_mode": {
        "name": "ipython",
        "version": 3
      },
      "file_extension": ".py",
      "mimetype": "text/x-python",
      "name": "python",
      "nbconvert_exporter": "python",
      "pygments_lexer": "ipython3",
      "version": "3.12.7"
    }
  },
  "nbformat": 4,
  "nbformat_minor": 5
}
